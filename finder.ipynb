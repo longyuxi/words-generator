{
 "cells": [
  {
   "cell_type": "code",
   "execution_count": 1,
   "metadata": {},
   "outputs": [
    {
     "name": "stdout",
     "output_type": "stream",
     "text": [
      "Number of words: 830\n",
      "First 10 words: ['C', 'IVLI', 'CAESARIS', 'COMMENTARIORVM', 'DE', 'BELLO', 'GALLICO', 'LIBER', 'PRIMVS', 'Gallia']\n"
     ]
    }
   ],
   "source": [
    "import re\n",
    "import os\n",
    "\n",
    "# Read the file (excerpt of De Bello Gallico downloaded from the Latin Library)\n",
    "with open('dbg.txt') as f:\n",
    "    lines = f.readlines()\n",
    "    text = ' '.join(lines)\n",
    "\n",
    "# Find all words\n",
    "words = re.findall(r'\\b[A-Za-z]+\\b', text)\n",
    "print(f'Number of words: {len(words)}')\n",
    "print(f'First 10 words: {words[:10]}')"
   ]
  },
  {
   "cell_type": "code",
   "execution_count": 2,
   "metadata": {},
   "outputs": [
    {
     "name": "stderr",
     "output_type": "stream",
     "text": [
      "100%|██████████| 830/830 [00:44<00:00, 18.61it/s]\n"
     ]
    }
   ],
   "source": [
    "import pexpect\n",
    "from tqdm import tqdm\n",
    "import numpy as np\n",
    "\n",
    "beginning_of_line = ['\\r\\n=>', '\\r=>', '\\n=>']\n",
    "\n",
    "# Creates a dictionary of words and their meanings by querying whitaker's words\n",
    "def get_word_outputs(words, progress=False):\n",
    "    current_dir = os.getcwd()\n",
    "    os.chdir(\"whitakers-words\")\n",
    "    child = pexpect.spawn('bin/meanings')\n",
    "\n",
    "    results = {}\n",
    "\n",
    "    child.expect(beginning_of_line)\n",
    "\n",
    "    it = words if not progress else tqdm(words)\n",
    "    for word in it:\n",
    "        # Send the word\n",
    "        child.sendline(word)\n",
    "        # Wait for the prompt again, capturing everything in between\n",
    "        try:\n",
    "            child.expect(beginning_of_line, timeout=0.2)\n",
    "            # Save everything (except the first and last line, which are the prompts)\n",
    "            results[word] = child.before.decode().strip().split('\\n')[1:-1]\n",
    "        except:\n",
    "            continue\n",
    "\n",
    "    os.chdir(current_dir)\n",
    "    return results\n",
    "\n",
    "\n",
    "outputs = get_word_outputs(words, progress=True)"
   ]
  },
  {
   "cell_type": "code",
   "execution_count": 3,
   "metadata": {},
   "outputs": [
    {
     "name": "stdout",
     "output_type": "stream",
     "text": [
      "vi ['vis, vis  N (3rd) F   [XXXAX]  \\r', 'strength (sg. only), force, power, might, violence;\\r\\r']\n",
      "consciverit ['conscio, conscire, conscivi, -  V (4th)   [XXXEO]    uncommon\\r', 'feel guilty; be conscious of (wrong); have on conscience; know well (late);\\r\\r', 'conscisco, consciscere, conscivi, conscitus  V (3rd) TRANS   [XXXCO]  \\r']\n",
      "quorum [' [XXXAO]  \\r', 'who; that; which, what; of which kind/degree; person/thing/time/point that;\\r\\r', 'who/what/which?, what/which one/man/person/thing? what kind/type of?;\\r\\r', 'who/whatever, everyone who, all that, anything that;\\r\\r', 'any; anyone/anything, any such; unspecified some; (after si/sin/sive/ne);\\r\\r']\n",
      "paratos ['paro, parare, paravi, paratus  V (1st) TRANS   [XXXAO]  \\r', 'prepare; furnish/supply/provide; produce; obtain/get; buy; raise; put up; plan;\\r', 'paratus, parata -um, paratior -or -us, paratissimus -a -um  ADJ   [XXXDX]    lesser\\r']\n",
      "mortem ['mors, mortis  N (3rd) F   [XXXAX]  \\r']\n",
      "quibus [' [XXXAO]  \\r', 'who; that; which, what; of which kind/degree; person/thing/time/point that;\\r\\r', 'who/what/which?, what/which one/man/person/thing? what kind/type of?;\\r\\r', 'who/whatever, everyone who, all that, anything that;\\r\\r', 'any; anyone/anything, any such; unspecified some; (after si/sin/sive/ne);\\r\\r']\n",
      "ne ['neo, nere, nevi, netus  V (2nd)   [XXXDX]    lesser\\r', 'spin; weave; produce by spinning;\\r\\r', 'ne  ADV   [XXXAX]  \\r', 'not; (intro clause of purpose with subj verb); [ne....quidem => not even];\\r\\r', 'truly, indeed, verily, assuredly; (particle of assurance); (w/personal PRON);\\r\\r', 'ne  CONJ   [XXXAX]  \\r']\n",
      "portaturi ['porto, portare, portavi, portatus  V (1st)   [XXXAX]  \\r']\n",
      "poenam ['poena, poenae  N (1st) F   [XXXAO]  \\r', 'penalty, punishment; revenge/retribution; [poena dare => to pay the penalty];\\r\\r', 'Poenus, Poena, Poenum  ADJ   [XXACO]  \\r']\n",
      "bellum ['bellum, belli  N (2nd) N   [XWXAO]  \\r', 'war, warfare; battle, combat, fight; (at/in) (the) war(s); military force, arms\\r', 'bellus, bella -um, bellior -or -us, bellissimus -a -um  ADJ   [XXXBO]  \\r', 'pretty, handsome, charming, pleasant, agreeable, polite; nice, fine, excellent;\\r', 'bellis, bellis  N (3rd) F   [XAXNO]    Pliny\\r', 'flower (perh. daisy); (white daisy, ox-eye - L+S);\\r\\r']\n"
     ]
    }
   ],
   "source": [
    "# See 10 random examples of words\n",
    "import random\n",
    "\n",
    "for w in random.sample(list(outputs), 10):\n",
    "    print(w, outputs[w])"
   ]
  },
  {
   "cell_type": "code",
   "execution_count": 8,
   "metadata": {},
   "outputs": [],
   "source": [
    "def clean_output(l):\n",
    "    l_stripped = list(map(lambda x: x.strip(), l))\n",
    "    l_concatenated = \"\\n\".join(l_stripped)\n",
    "    return l_concatenated\n",
    "\n",
    "values = [clean_output(outputs[k]) for k in outputs.keys()]\n",
    "\n",
    "# Get unique elements and their counts using numpy's unique and return_counts functions\n",
    "unique_elements, counts = np.unique(values, return_counts=True)\n",
    "\n",
    "# Sort the unique elements by their counts in descending order\n",
    "sorted_indices = np.argsort(-counts)\n",
    "sorted_unique_elements = unique_elements[sorted_indices]\n"
   ]
  },
  {
   "cell_type": "code",
   "execution_count": 9,
   "metadata": {},
   "outputs": [
    {
     "data": {
      "text/plain": [
       "(array(['', 'civitas, civitatis  N (3rd) F   [XLXAO]',\n",
       "        'sum, esse, fui, futurus  V   [XXXAX]',\n",
       "        'cogo, cogere, coegi, coactus  V (3rd) TRANS   [XXXAO]',\n",
       "        'mons, montis  N (3rd) M   [XXXAX]',\n",
       "        'omnis, omnis, omne  ADJ   [XXXAC]\\neach, every, every one (of a number); all (pl.); all/the whole of;\\nomne, omnis  N (3rd) N   [XXXCC]\\nall things (pl.); everything; a/the whole, entity, unit;\\nomnis, omnis  N (3rd) C   [XXXBC]',\n",
       "        'Rhodanus, Rhodani  N (2nd) M   [XXFDX]    lesser',\n",
       "        'persuadeo, persuadere, persuasi, persuasus  V (2nd)   [XXXBX]',\n",
       "        'obtineo, obtinere, obtinui, obtentus  V (2nd)   [XXXAO]',\n",
       "        '[XXXAO]\\nwho; that; which, what; of which kind/degree; person/thing/time/point that;\\nwho/what/which?, what/which one/man/person/thing? what kind/type of?;\\nwho/whatever, everyone who, all that, anything that;\\nany; anyone/anything, any such; unspecified some; (after si/sin/sive/ne);'],\n",
       "       dtype='<U1074'),\n",
       " array([11,  5,  5,  4,  4,  4,  4,  4,  3,  3]))"
      ]
     },
     "execution_count": 9,
     "metadata": {},
     "output_type": "execute_result"
    }
   ],
   "source": [
    "# Top 10 most common words in the corpus\n",
    "sorted_unique_elements[:10], -np.sort(-counts)[:10]"
   ]
  },
  {
   "cell_type": "code",
   "execution_count": null,
   "metadata": {},
   "outputs": [],
   "source": []
  }
 ],
 "metadata": {
  "kernelspec": {
   "display_name": "Python 3",
   "language": "python",
   "name": "python3"
  },
  "language_info": {
   "codemirror_mode": {
    "name": "ipython",
    "version": 3
   },
   "file_extension": ".py",
   "mimetype": "text/x-python",
   "name": "python",
   "nbconvert_exporter": "python",
   "pygments_lexer": "ipython3",
   "version": "3.10.6"
  },
  "orig_nbformat": 4
 },
 "nbformat": 4,
 "nbformat_minor": 2
}
